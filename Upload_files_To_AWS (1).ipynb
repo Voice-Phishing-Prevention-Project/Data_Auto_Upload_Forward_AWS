{
  "cells": [
    {
      "cell_type": "code",
      "execution_count": null,
      "metadata": {
        "colab": {
          "base_uri": "https://localhost:8080/"
        },
        "id": "v5CNwc1qkseY",
        "outputId": "64b7e7dc-f302-4424-fe7c-090f6e6d0ec1"
      },
      "outputs": [
        {
          "name": "stdout",
          "output_type": "stream",
          "text": [
            "Collecting boto3\n",
            "  Downloading boto3-1.28.17-py3-none-any.whl (135 kB)\n",
            "\u001b[2K     \u001b[90m━━━━━━━━━━━━━━━━━━━━━━━━━━━━━━━━━━━━━━━\u001b[0m \u001b[32m135.8/135.8 kB\u001b[0m \u001b[31m2.8 MB/s\u001b[0m eta \u001b[36m0:00:00\u001b[0m\n",
            "\u001b[?25hCollecting botocore<1.32.0,>=1.31.17 (from boto3)\n",
            "  Downloading botocore-1.31.17-py3-none-any.whl (11.1 MB)\n",
            "\u001b[2K     \u001b[90m━━━━━━━━━━━━━━━━━━━━━━━━━━━━━━━━━━━━━━━\u001b[0m \u001b[32m11.1/11.1 MB\u001b[0m \u001b[31m101.7 MB/s\u001b[0m eta \u001b[36m0:00:00\u001b[0m\n",
            "\u001b[?25hCollecting jmespath<2.0.0,>=0.7.1 (from boto3)\n",
            "  Downloading jmespath-1.0.1-py3-none-any.whl (20 kB)\n",
            "Collecting s3transfer<0.7.0,>=0.6.0 (from boto3)\n",
            "  Downloading s3transfer-0.6.1-py3-none-any.whl (79 kB)\n",
            "\u001b[2K     \u001b[90m━━━━━━━━━━━━━━━━━━━━━━━━━━━━━━━━━━━━━━━━\u001b[0m \u001b[32m79.8/79.8 kB\u001b[0m \u001b[31m9.0 MB/s\u001b[0m eta \u001b[36m0:00:00\u001b[0m\n",
            "\u001b[?25hRequirement already satisfied: python-dateutil<3.0.0,>=2.1 in /usr/local/lib/python3.10/dist-packages (from botocore<1.32.0,>=1.31.17->boto3) (2.8.2)\n",
            "Requirement already satisfied: urllib3<1.27,>=1.25.4 in /usr/local/lib/python3.10/dist-packages (from botocore<1.32.0,>=1.31.17->boto3) (1.26.16)\n",
            "Requirement already satisfied: six>=1.5 in /usr/local/lib/python3.10/dist-packages (from python-dateutil<3.0.0,>=2.1->botocore<1.32.0,>=1.31.17->boto3) (1.16.0)\n",
            "Installing collected packages: jmespath, botocore, s3transfer, boto3\n",
            "Successfully installed boto3-1.28.17 botocore-1.31.17 jmespath-1.0.1 s3transfer-0.6.1\n"
          ]
        }
      ],
      "source": [
        "!pip install boto3"
      ]
    },
    {
      "cell_type": "code",
      "execution_count": null,
      "metadata": {
        "id": "kPK9BbD_li42"
      },
      "outputs": [],
      "source": [
        "import boto3\n",
        "\n",
        "# AWS 자격 증명 설정\n",
        "aws_access_key_id = '',\n",
        "aws_secret_access_key = ''\n",
        "\n",
        "# AWS 클라이언트 생성\n",
        "s3_client = boto3.client('s3', aws_access_key_id=aws_access_key_id, aws_secret_access_key=aws_secret_access_key)\n"
      ]
    },
    {
      "cell_type": "code",
      "execution_count": null,
      "metadata": {
        "colab": {
          "base_uri": "https://localhost:8080/"
        },
        "id": "RMxDXBXllxXY",
        "outputId": "0da59732-3500-4c43-b446-4725785ef50c"
      },
      "outputs": [
        {
          "name": "stdout",
          "output_type": "stream",
          "text": [
            "파일이 성공적으로 S3 버킷에 업로드되었습니다. 버킷: 'giveittome', 경로: 'hello/test.txt'\n"
          ]
        }
      ],
      "source": [
        "import boto3\n",
        "\n",
        "def upload_file_to_s3(local_file_path, bucket_name, s3_file_path, aws_access_key_id, aws_secret_access_key):\n",
        "    \"\"\"\n",
        "    로컬 파일을 S3 버킷에 업로드하는 함수\n",
        "    :param local_file_path: 업로드할 로컬 파일의 경로\n",
        "    :param bucket_name: 업로드할 S3 버킷의 이름\n",
        "    :param s3_file_path: S3 버킷 내에서 파일이 저장될 경로 및 이름\n",
        "    :param aws_access_key_id: AWS 액세스 키 ID\n",
        "    :param aws_secret_access_key: AWS 비밀 액세스 키\n",
        "    \"\"\"\n",
        "    try:\n",
        "        s3_client = boto3.client('s3', aws_access_key_id=aws_access_key_id, aws_secret_access_key=aws_secret_access_key)\n",
        "        s3_client.upload_file(local_file_path, bucket_name, s3_file_path)\n",
        "        print(f\"파일이 성공적으로 S3 버킷에 업로드되었습니다. 버킷: '{bucket_name}', 경로: '{s3_file_path}'\")\n",
        "    except Exception as e:\n",
        "        print(f\"파일 업로드에 실패했습니다. 오류 메시지: {str(e)}\")\n",
        "\n",
        "# 업로드할 로컬 파일의 경로\n",
        "local_file_path = \"/content/test.txt.txt\"\n",
        "\n",
        "# S3 버킷의 이름\n",
        "bucket_name = \"giveittome\"\n",
        "\n",
        "# S3 버킷 내에서 파일이 저장될 경로 및 이름\n",
        "s3_file_path = \"hello/test.txt\"\n",
        "\n",
        "# AWS 자격 증명 설정\n",
        "aws_access_key_id = ''\n",
        "aws_secret_access_key = ''\n",
        "ㅁ\n",
        "# 파일을 S3 버킷에 업로드\n",
        "upload_file_to_s3(local_file_path, bucket_name, s3_file_path, aws_access_key_id, aws_secret_access_key)\n"
      ]
    }
  ],
  "metadata": {
    "colab": {
      "provenance": []
    },
    "kernelspec": {
      "display_name": "Python 3",
      "name": "python3"
    },
    "language_info": {
      "name": "python"
    }
  },
  "nbformat": 4,
  "nbformat_minor": 0
}
